{
 "cells": [
  {
   "cell_type": "markdown",
   "metadata": {},
   "source": [
    "## Import Library"
   ]
  },
  {
   "cell_type": "code",
   "execution_count": 1,
   "metadata": {},
   "outputs": [],
   "source": [
    "import numpy as np\n",
    "\n",
    "import neuralnetwork\n",
    "\n",
    "from neuralnetwork import layers\n",
    "from neuralnetwork import activations"
   ]
  },
  {
   "cell_type": "markdown",
   "metadata": {},
   "source": [
    "## Test Model Summary"
   ]
  },
  {
   "cell_type": "markdown",
   "metadata": {},
   "source": [
    "### Model from IF4071 Lecture Slide"
   ]
  },
  {
   "cell_type": "code",
   "execution_count": 2,
   "metadata": {},
   "outputs": [
    {
     "name": "stdout",
     "output_type": "stream",
     "text": [
      "\n",
      "Model: Sequential\n",
      "================================================================================\n",
      "Layer (type)                       Output Shape                       Param #       \n",
      "================================================================================\n",
      "lstm_1 (LSTM)                      (None, 1)                          16               \n",
      "--------------------------------------------------------------------------------\n",
      "dense_1 (Dense)                    (None, 1)                          2                \n",
      "================================================================================\n",
      "Total params: 18\n",
      "\n"
     ]
    }
   ],
   "source": [
    "model1 = neuralnetwork.Sequential()\n",
    "\n",
    "model1.add(layers.LSTM(1, input_shape=(2, 2)))\n",
    "model1.add(layers.Dense(1, activation=activations.ReLU))\n",
    "\n",
    "model1.summary()"
   ]
  },
  {
   "cell_type": "markdown",
   "metadata": {},
   "source": [
    "### Model with 32 Timesteps, 6 Features, and 10 Units LSTM"
   ]
  },
  {
   "cell_type": "code",
   "execution_count": 3,
   "metadata": {},
   "outputs": [
    {
     "name": "stdout",
     "output_type": "stream",
     "text": [
      "\n",
      "Model: Sequential\n",
      "================================================================================\n",
      "Layer (type)                       Output Shape                       Param #       \n",
      "================================================================================\n",
      "lstm_1 (LSTM)                      (None, 10)                         680              \n",
      "--------------------------------------------------------------------------------\n",
      "dense_1 (Dense)                    (None, 1)                          11               \n",
      "================================================================================\n",
      "Total params: 691\n",
      "\n"
     ]
    }
   ],
   "source": [
    "model2 = neuralnetwork.Sequential()\n",
    "\n",
    "model2.add(layers.LSTM(10, input_shape=(32, 6)))\n",
    "model2.add(layers.Dense(1, activation=activations.ReLU))\n",
    "\n",
    "model2.summary()"
   ]
  },
  {
   "cell_type": "markdown",
   "metadata": {},
   "source": [
    "## Test LSTM"
   ]
  },
  {
   "cell_type": "markdown",
   "metadata": {},
   "source": [
    "### IF4071 Lecture Forward Propagation Example"
   ]
  },
  {
   "cell_type": "code",
   "execution_count": 4,
   "metadata": {},
   "outputs": [],
   "source": [
    "# Define Weights\n",
    "\n",
    "_x = np.array([[[1, 2]], [[.5, 3]]])\n",
    "uf = np.array([[.7, .45]])\n",
    "ui = np.array([[.95, .8]])\n",
    "uc = np.array([[.45, .25]])\n",
    "uo = np.array([[.6, .4]])\n",
    "\n",
    "wf = np.array([[.1]])\n",
    "wi = np.array([[.8]])\n",
    "wc = np.array([[.15]])\n",
    "wo = np.array([[.25]])\n",
    "\n",
    "bf = np.array([[.15]])\n",
    "bi = np.array([[.65]])\n",
    "bc = np.array([[.2]])\n",
    "bo = np.array([[.1]])"
   ]
  },
  {
   "cell_type": "code",
   "execution_count": 7,
   "metadata": {},
   "outputs": [
    {
     "name": "stdout",
     "output_type": "stream",
     "text": [
      "Timestep 1\n",
      "ft\t: [[0.8519528]]\n",
      "it\t: [[0.96083428]]\n",
      "~ct\t: [[0.81775408]]\n",
      "Ct\t: [[0.78572615]]\n",
      "ot\t: [[0.81757448]]\n",
      "ht\t: [[0.5363134]]\n",
      "\n",
      "Timestep 2\n",
      "ft\t: [[0.87030197]]\n",
      "it\t: [[0.98118397]]\n",
      "~ct\t: [[0.84980402]]\n",
      "Ct\t: [[1.5176331]]\n",
      "ot\t: [[0.84993334]]\n",
      "ht\t: [[0.77198111]]\n",
      "\n"
     ]
    }
   ],
   "source": [
    "layer1 = layers.LSTM(1, input_shape=(2, 2))\n",
    "\n",
    "layer1.set_w(wf, wi, wc, wo, bf, bi, bc, bo)\n",
    "layer1.set_u(uf, ui, uc, uo)\n",
    "\n",
    "layer1._init_cp()\n",
    "layer1._init_hp()\n",
    "\n",
    "layer1.forward_propagation(_x, debug=True)"
   ]
  },
  {
   "cell_type": "markdown",
   "metadata": {},
   "source": [
    "### LSTM Forward Propagation with Random Weights"
   ]
  },
  {
   "cell_type": "code",
   "execution_count": 15,
   "metadata": {},
   "outputs": [
    {
     "name": "stdout",
     "output_type": "stream",
     "text": [
      "Timestep 1\n",
      "ft\t: [[0.68290621]]\n",
      "it\t: [[0.75507579]]\n",
      "~ct\t: [[0.53858003]]\n",
      "Ct\t: [[0.40666874]]\n",
      "ot\t: [[0.8026324]]\n",
      "ht\t: [[0.30952755]]\n",
      "\n",
      "Timestep 2\n",
      "ft\t: [[0.84756228]]\n",
      "it\t: [[0.86650591]]\n",
      "~ct\t: [[0.7613837]]\n",
      "Ct\t: [[1.00442057]]\n",
      "ot\t: [[0.95008434]]\n",
      "ht\t: [[0.72533661]]\n",
      "\n",
      "Timestep 3\n",
      "ft\t: [[0.90166778]]\n",
      "it\t: [[0.92633737]]\n",
      "~ct\t: [[0.77964767]]\n",
      "Ct\t: [[1.62787043]]\n",
      "ot\t: [[0.94923933]]\n",
      "ht\t: [[0.87876563]]\n",
      "\n",
      "Timestep 4\n",
      "ft\t: [[0.91500523]]\n",
      "it\t: [[0.9369153]]\n",
      "~ct\t: [[0.79861042]]\n",
      "Ct\t: [[2.23774027]]\n",
      "ot\t: [[0.96175567]]\n",
      "ht\t: [[0.94010348]]\n",
      "\n",
      "Timestep 5\n",
      "ft\t: [[0.87649307]]\n",
      "it\t: [[0.89180652]]\n",
      "~ct\t: [[0.77899143]]\n",
      "Ct\t: [[2.65607349]]\n",
      "ot\t: [[0.94563557]]\n",
      "ht\t: [[0.93635486]]\n",
      "\n",
      "Timestep 6\n",
      "ft\t: [[0.9275971]]\n",
      "it\t: [[0.94032041]]\n",
      "~ct\t: [[0.82142914]]\n",
      "Ct\t: [[3.23617266]]\n",
      "ot\t: [[0.95917708]]\n",
      "ht\t: [[0.95621665]]\n",
      "\n",
      "Timestep 7\n",
      "ft\t: [[0.86046319]]\n",
      "it\t: [[0.87262562]]\n",
      "~ct\t: [[0.75875431]]\n",
      "Ct\t: [[3.44671591]]\n",
      "ot\t: [[0.93548441]]\n",
      "ht\t: [[0.93358837]]\n",
      "\n",
      "Timestep 8\n",
      "ft\t: [[0.88133027]]\n",
      "it\t: [[0.85507775]]\n",
      "~ct\t: [[0.80537545]]\n",
      "Ct\t: [[3.72635367]]\n",
      "ot\t: [[0.95271831]]\n",
      "ht\t: [[0.95161404]]\n",
      "\n",
      "Timestep 9\n",
      "ft\t: [[0.86845921]]\n",
      "it\t: [[0.90832744]]\n",
      "~ct\t: [[0.75740053]]\n",
      "Ct\t: [[3.92415383]]\n",
      "ot\t: [[0.95039745]]\n",
      "ht\t: [[0.94965565]]\n",
      "\n",
      "Timestep 10\n",
      "ft\t: [[0.88783749]]\n",
      "it\t: [[0.91051331]]\n",
      "~ct\t: [[0.79138796]]\n",
      "Ct\t: [[4.20458015]]\n",
      "ot\t: [[0.95633287]]\n",
      "ht\t: [[0.95590679]]\n",
      "\n"
     ]
    }
   ],
   "source": [
    "layer2 = layers.LSTM(1, input_shape=(10, 4))\n",
    "\n",
    "layer2.init_layer()\n",
    "\n",
    "layer2.forward_propagation(np.random.rand(10, 1, 4), debug=True)"
   ]
  },
  {
   "cell_type": "markdown",
   "metadata": {},
   "source": [
    "## LSTM Forward Propagation with BitCoin Data"
   ]
  },
  {
   "cell_type": "markdown",
   "metadata": {},
   "source": [
    "### Prepare Dataset"
   ]
  },
  {
   "cell_type": "code",
   "execution_count": 16,
   "metadata": {},
   "outputs": [],
   "source": [
    "import pandas as pd\n",
    "\n",
    "pd.options.mode.chained_assignment = None\n",
    "\n",
    "training_data   = pd.read_csv(\"dataset/bitcoin/training.csv\")\n",
    "test_data       = pd.read_csv(\"dataset/bitcoin/test.csv\")"
   ]
  },
  {
   "cell_type": "markdown",
   "metadata": {},
   "source": []
  }
 ],
 "metadata": {
  "interpreter": {
   "hash": "bb6d253a963df6dbc337acb2f379a4826e68aeb1a86c1b88229d03fac46dc808"
  },
  "kernelspec": {
   "display_name": "Python 3.9.7 64-bit ('tensorflow': conda)",
   "name": "python3"
  },
  "language_info": {
   "codemirror_mode": {
    "name": "ipython",
    "version": 3
   },
   "file_extension": ".py",
   "mimetype": "text/x-python",
   "name": "python",
   "nbconvert_exporter": "python",
   "pygments_lexer": "ipython3",
   "version": "3.9.7"
  },
  "orig_nbformat": 4
 },
 "nbformat": 4,
 "nbformat_minor": 2
}
